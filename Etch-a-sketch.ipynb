{
 "cells": [
  {
   "cell_type": "code",
   "execution_count": 1,
   "metadata": {},
   "outputs": [],
   "source": [
    "from turtle import Turtle,Screen\n",
    "tim=Turtle()\n",
    "screen=Screen()\n",
    "def move_forward():\n",
    "    tim.forward(10)\n",
    "def move_back():\n",
    "    tim.backward(10)\n",
    "def move_left():\n",
    "    tim.left(10)\n",
    "def move_right():\n",
    "    tim.right(10)\n",
    "def clear():\n",
    "    tim.clear()\n",
    "    tim.penup()\n",
    "    tim.home()\n",
    "    tim.pendown()\n",
    "screen.listen()\n",
    "screen.onkey(key='w',fun=move_forward)\n",
    "screen.onkey(key='s',fun=move_back)\n",
    "screen.onkey(key='a',fun=move_left)\n",
    "screen.onkey(key='d',fun=move_right)\n",
    "screen.onkey(key='c',fun=clear)\n",
    "screen.exitonclick()\n",
    "\n",
    "\n",
    "\n",
    "\n",
    "\n"
   ]
  },
  {
   "cell_type": "code",
   "execution_count": null,
   "metadata": {},
   "outputs": [],
   "source": []
  }
 ],
 "metadata": {
  "kernelspec": {
   "display_name": "Python 3",
   "language": "python",
   "name": "python3"
  },
  "language_info": {
   "codemirror_mode": {
    "name": "ipython",
    "version": 3
   },
   "file_extension": ".py",
   "mimetype": "text/x-python",
   "name": "python",
   "nbconvert_exporter": "python",
   "pygments_lexer": "ipython3",
   "version": "3.8.5"
  }
 },
 "nbformat": 4,
 "nbformat_minor": 4
}
